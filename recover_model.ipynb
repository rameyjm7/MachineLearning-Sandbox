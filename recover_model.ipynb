{
 "cells": [
  {
   "cell_type": "code",
   "execution_count": null,
   "id": "4cd6f1e2-5cc5-4f76-8f4a-998de0c0af2b",
   "metadata": {},
   "outputs": [],
   "source": [
    "# Define the architecture exactly as before\n",
    "def build_model(input_shape, num_classes, learning_rate=0.001):\n",
    "    from tensorflow.keras.models import Sequential\n",
    "    from tensorflow.keras.layers import LSTM, Dense, Dropout\n",
    "    from tensorflow.keras.optimizers import Adam\n",
    "\n",
    "    model = Sequential([\n",
    "        LSTM(128, input_shape=input_shape, return_sequences=True),\n",
    "        Dropout(0.2),\n",
    "        LSTM(128, return_sequences=False),\n",
    "        Dropout(0.2),\n",
    "        Dense(128, activation=\"relu\"),\n",
    "        Dropout(0.2),\n",
    "        Dense(num_classes, activation=\"softmax\")\n",
    "    ])\n",
    "    optimizer = Adam(learning_rate=learning_rate)\n",
    "    model.compile(loss=\"sparse_categorical_crossentropy\", optimizer=optimizer, metrics=[\"accuracy\"])\n",
    "    return model\n",
    "\n",
    "# Create a new instance of the model\n",
    "input_shape = (128, 3)  # Adjust based on your data\n",
    "num_classes = 11  # Modify based on your dataset\n",
    "new_model = build_model(input_shape, num_classes)\n",
    "\n",
    "# Try loading weights instead of the full model\n",
    "try:\n",
    "    new_model.load_weights(model_path)\n",
    "    print(\"Weights loaded successfully!\")\n",
    "    new_model.save(\"recovered_model.keras\")\n",
    "    print(\"Recovered model saved successfully!\")\n",
    "except Exception as e:\n",
    "    print(f\"Failed to load weights: {e}\")\n"
   ]
  }
 ],
 "metadata": {
  "kernelspec": {
   "display_name": "Python 3 (ipykernel)",
   "language": "python",
   "name": "python3"
  },
  "language_info": {
   "codemirror_mode": {
    "name": "ipython",
    "version": 3
   },
   "file_extension": ".py",
   "mimetype": "text/x-python",
   "name": "python",
   "nbconvert_exporter": "python",
   "pygments_lexer": "ipython3",
   "version": "3.11.5"
  }
 },
 "nbformat": 4,
 "nbformat_minor": 5
}
